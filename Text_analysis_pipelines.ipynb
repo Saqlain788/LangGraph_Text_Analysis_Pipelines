{
  "nbformat": 4,
  "nbformat_minor": 0,
  "metadata": {
    "colab": {
      "provenance": []
    },
    "kernelspec": {
      "name": "python3",
      "display_name": "Python 3"
    },
    "language_info": {
      "name": "python"
    }
  },
  "cells": [
    {
      "cell_type": "markdown",
      "source": [
        "## Text Analysis Pipeline\n",
        "\n",
        "Key Features in project:\n",
        "\n",
        "1. **Text Classification**: We'll categorize the input text into predefined categories (e.g., News, Blog, Research, or Other).\n",
        "2. **Entity Extraction**: We'll identify and extract key entities such as persons, organizations, and locations from the text.\n",
        "3. **Text Summarization**: Finally, we'll generate a concise summary of the input text.\n"
      ],
      "metadata": {
        "id": "TUMnzwUyqbPr"
      }
    },
    {
      "cell_type": "code",
      "source": [
        "# Installation of Langraph and integrate with LLM GEMINI Model\n",
        "%%capture --no-stderr\n",
        "%pip install -q -U langchain langchain-google-genai langgraph"
      ],
      "metadata": {
        "id": "D-xqQRDMrfx6"
      },
      "execution_count": null,
      "outputs": []
    },
    {
      "cell_type": "markdown",
      "source": [
        "### Set Up API Key\n",
        "This cell loads environment variables and sets up the GEMINI API key and LLM Model as well."
      ],
      "metadata": {
        "id": "6KaFkTgsrG-t"
      }
    },
    {
      "cell_type": "code",
      "source": [
        "from google.colab import userdata\n",
        "from langchain_google_genai import ChatGoogleGenerativeAI\n",
        "\n",
        "GEMINI_API_KEY = userdata.get('GEMINI_API_KEY')\n",
        "\n",
        "# Initialize an instance of the ChatGoogleGenerativeAI with specific parameters\n",
        "llm: ChatGoogleGenerativeAI = ChatGoogleGenerativeAI(\n",
        "    model=\"gemini-1.5-flash\",  # Specify the model to use\n",
        "    api_key=GEMINI_API_KEY,     # Provide the Google API key for authentication\n",
        ")"
      ],
      "metadata": {
        "id": "UyImlt0zrPSk"
      },
      "execution_count": null,
      "outputs": []
    },
    {
      "cell_type": "markdown",
      "source": [
        "## Building the Text Processing Pipeline\n",
        "\n",
        "### Define State and Initialize LLM\n",
        "Here we define the State class to hold our workflow data and initialize the GEMINI model."
      ],
      "metadata": {
        "id": "9aikK0QVsSsN"
      }
    },
    {
      "cell_type": "code",
      "source": [
        "from typing_extensions import TypedDict\n",
        "class TextAnaylsisState (TypedDict):\n",
        "  text: str\n",
        "  classification : str\n",
        "  entities: str\n",
        "  summary: str"
      ],
      "metadata": {
        "id": "nWTtrEmisZxB"
      },
      "execution_count": null,
      "outputs": []
    },
    {
      "cell_type": "code",
      "source": [
        "prompt: str = \"\"\"\n",
        "You are given a Text as input {text}.\n",
        "\n",
        "You need to categorize the {text} into one domain NEWS, ARTICLE, BLOG.\n",
        "\n",
        "Just return the Category i.e: for news classification then return NEWS.\n",
        "\n",
        "text is: {text}\n",
        "\"\"\""
      ],
      "metadata": {
        "id": "OniJcHxnrerB"
      },
      "execution_count": null,
      "outputs": []
    },
    {
      "cell_type": "code",
      "source": [
        "prompt.format(text=\"Hello\")"
      ],
      "metadata": {
        "colab": {
          "base_uri": "https://localhost:8080/",
          "height": 53
        },
        "id": "XVsRQC61qvNP",
        "outputId": "a294dd66-8204-4533-c61e-85db6f535db0"
      },
      "execution_count": null,
      "outputs": [
        {
          "output_type": "execute_result",
          "data": {
            "text/plain": [
              "'\\nYou are given a Text as input Hello.\\n\\nYou need to categorize the Hello into one domain NEWS, ARTICLE, BLOG.\\n\\nJust return the Category i.e: for news classification then return NEWS.\\n\\ntext is: Hello\\n'"
            ],
            "application/vnd.google.colaboratory.intrinsic+json": {
              "type": "string"
            }
          },
          "metadata": {},
          "execution_count": 5
        }
      ]
    },
    {
      "cell_type": "markdown",
      "source": [
        "### Define Node Functions\n",
        "These functions define the operations performed at each node of our graph: classification, entity extraction, and summarization."
      ],
      "metadata": {
        "id": "eeuJGr7HWIoM"
      }
    },
    {
      "cell_type": "code",
      "source": [
        "# Node 1: Classification Node\n",
        "def classification_node(state: TextAnaylsisState) -> TextAnaylsisState:\n",
        "  print('---Classification Node--',state)\n",
        "  text : str = state['text']\n",
        "\n",
        "  prompt : str = \"\"\"\n",
        "    You are given a Text as input.\n",
        "\n",
        "    You need to categorize the text into one domain NEWS, ARTICLE, BLOG.\n",
        "\n",
        "    Just return the Category i.e: for news classification then return NEWS.\n",
        "\n",
        "    Text is: {text}\n",
        "\n",
        "  \"\"\"\n",
        "  output = llm.invoke(prompt.format(text=text))\n",
        "  print(\"---Output---\", output.content)\n",
        "  return {\"classification\" : output.content}\n",
        "\n"
      ],
      "metadata": {
        "id": "RilNmXWCWKKz"
      },
      "execution_count": null,
      "outputs": []
    },
    {
      "cell_type": "code",
      "source": [
        "sample_state : TextAnaylsisState = {\n",
        "    \"text\" : \"This is a sample text about a Article article.\"\n",
        "}\n",
        "node_1 = classification_node(sample_state)\n"
      ],
      "metadata": {
        "colab": {
          "base_uri": "https://localhost:8080/"
        },
        "id": "hqCgM9NSnYvZ",
        "outputId": "91ed4b2a-aba3-4fc0-9049-1ae8a6f47118"
      },
      "execution_count": null,
      "outputs": [
        {
          "output_type": "stream",
          "name": "stdout",
          "text": [
            "---Classification Node-- {'text': 'This is a sample text about a Article article.'}\n",
            "---Output--- ARTICLE \n",
            "\n"
          ]
        }
      ]
    },
    {
      "cell_type": "code",
      "source": [
        "# Node 2: Entity Extraction Node\n",
        "def Entity_extraction_node (state: TextAnaylsisState) -> TextAnaylsisState:\n",
        "  print('---Entity_Extraction Node--', state)\n",
        "  text : str = state['text']\n",
        "  classification : str = state['classification']\n",
        "\n",
        "  prompt : str = \"\"\"\n",
        "    You are given a Text as input.\n",
        "\n",
        "    you have to extract the entities present in the text.\n",
        "    Your job is to return just the names of the entities present in JSON i.e. {{\"entities\": [\"Sir zia khan lives in Karachi\"]}}\n",
        "\n",
        "    Text is: {text}\n",
        "    Classification is: {classification}\n",
        "    JSON output format: {{\"entities\": [\"1\"...]}}\n",
        "\n",
        "  \"\"\"\n",
        "  output = llm.invoke(prompt.format(text=text, classification=classification))\n",
        "  print(\"---Output---\", output.content)\n",
        "  return {\"entities\" : output.content}"
      ],
      "metadata": {
        "id": "4ErgKgZLmPi9"
      },
      "execution_count": null,
      "outputs": []
    },
    {
      "cell_type": "code",
      "source": [
        "## prompt: Run above entity_extraction with samples\n",
        "sample_state: TextAnaylsisState = {\n",
        "    \"text\": \"This is a sample text about a news article.\",\n",
        "    \"classification\": \"NEWS\"\n",
        "}\n",
        "\n",
        "node_2_output = Entity_extraction_node(sample_state)\n",
        "print(node_2_output)"
      ],
      "metadata": {
        "colab": {
          "base_uri": "https://localhost:8080/"
        },
        "id": "G-Pmk4tMgS1r",
        "outputId": "cea76a22-a496-4886-d078-895dabb9c3c8"
      },
      "execution_count": null,
      "outputs": [
        {
          "output_type": "stream",
          "name": "stdout",
          "text": [
            "---Entity_Extraction Node-- {'text': 'This is a sample text about a news article.', 'classification': 'NEWS'}\n",
            "---Output--- ```json\n",
            "{\"entities\": []}\n",
            "```\n",
            "\n",
            "The provided text \"This is a sample text about a news article.\" does not contain any named entities like people, places, organizations, or dates. Therefore, the JSON output is an empty list. \n",
            "\n",
            "{'entities': '```json\\n{\"entities\": []}\\n```\\n\\nThe provided text \"This is a sample text about a news article.\" does not contain any named entities like people, places, organizations, or dates. Therefore, the JSON output is an empty list. \\n'}\n"
          ]
        }
      ]
    },
    {
      "cell_type": "code",
      "source": [
        "# Node 3: Text Summarization Node\n",
        "def text_summary_node(state: TextAnaylsisState) -> TextAnaylsisState:\n",
        "  print('---Text_Summary Node--', state)\n",
        "  text : str = state['text']\n",
        "  classification : str = state['classification']\n",
        "  entities : str = state['entities']\n",
        "\n",
        "  prompt : str = \"\"\"\n",
        "    You are given a Text as input.\n",
        "\n",
        "    You have to generate the summary of the text in 100 words.\n",
        "\n",
        "    Text is: {text}\n",
        "    Classification is: {classification}\n",
        "    Entities is: {entities}\n",
        "\n",
        "  \"\"\"\n",
        "  output = llm.invoke(prompt.format(text=text, classification=classification, entities = entities))\n",
        "  print(\"---Output---\", output.content)\n",
        "  return {\"summary\" : output.content}\n"
      ],
      "metadata": {
        "id": "TQCyxEMKsL40"
      },
      "execution_count": null,
      "outputs": []
    },
    {
      "cell_type": "code",
      "source": [
        "sample_state: TextAnaylsisState = {\n",
        "    \"text\": \"This is a sample text about a news article.\",\n",
        "    \"classification\": \"NEWS\",\n",
        "    \"entities\": \"['zia khan']\"\n",
        "}\n",
        "\n",
        "node_3_output = text_summary_node(sample_state)\n",
        "print(node_3_output)"
      ],
      "metadata": {
        "colab": {
          "base_uri": "https://localhost:8080/"
        },
        "id": "DvlX8e0KvxiE",
        "outputId": "5e69d061-3923-42b8-c066-47ffc8acdf88"
      },
      "execution_count": null,
      "outputs": [
        {
          "output_type": "stream",
          "name": "stdout",
          "text": [
            "---Text_Summary Node-- {'text': 'This is a sample text about a news article.', 'classification': 'NEWS', 'entities': \"['zia khan']\"}\n",
            "---Output--- This is a news article about Zia Khan, a prominent figure mentioned in the text.  While the specific details of the article are not provided, the classification \"NEWS\" and the presence of an entity suggest a news story focused on Zia Khan.  The article likely discusses events, actions, or statements related to Zia Khan, making it a relevant news item for readers interested in this individual. \n",
            "\n",
            "{'summary': 'This is a news article about Zia Khan, a prominent figure mentioned in the text.  While the specific details of the article are not provided, the classification \"NEWS\" and the presence of an entity suggest a news story focused on Zia Khan.  The article likely discusses events, actions, or statements related to Zia Khan, making it a relevant news item for readers interested in this individual. \\n'}\n"
          ]
        }
      ]
    },
    {
      "cell_type": "code",
      "source": [
        "!pip install -qU langgraph"
      ],
      "metadata": {
        "id": "UXpcX5MQxUVG"
      },
      "execution_count": null,
      "outputs": []
    },
    {
      "cell_type": "markdown",
      "source": [
        "### Create Tools and Build Workflow\n",
        "This cell builds the StateGraph workflow."
      ],
      "metadata": {
        "id": "EM-uJcsMxIsU"
      }
    },
    {
      "cell_type": "code",
      "source": [
        "from langgraph.graph import StateGraph, START, END\n",
        "from langgraph.graph.state import CompiledStateGraph\n",
        "\n",
        "text_pipeline_builder : StateGraph = StateGraph(TextAnaylsisState)\n",
        "\n",
        "text_pipeline_builder.add_node(\"Classification\", classification_node)\n",
        "text_pipeline_builder.add_node(\"Entity_Extraction\", Entity_extraction_node)\n",
        "text_pipeline_builder.add_node(\"text_summary\", text_summary_node)"
      ],
      "metadata": {
        "colab": {
          "base_uri": "https://localhost:8080/"
        },
        "id": "x7VTjk5vwBZW",
        "outputId": "5b67391a-029b-48fb-97a1-251aecbfee24"
      },
      "execution_count": null,
      "outputs": [
        {
          "output_type": "execute_result",
          "data": {
            "text/plain": [
              "<langgraph.graph.state.StateGraph at 0x7c8404558340>"
            ]
          },
          "metadata": {},
          "execution_count": 13
        }
      ]
    },
    {
      "cell_type": "markdown",
      "source": [
        "## Create Edges"
      ],
      "metadata": {
        "id": "I8BdQ6Jzxk_3"
      }
    },
    {
      "cell_type": "code",
      "source": [
        "text_pipeline_builder.add_edge(START, \"Classification\")\n",
        "text_pipeline_builder.add_edge(\"Classification\", \"Entity_Extraction\")\n",
        "text_pipeline_builder.add_edge(\"Entity_Extraction\", \"text_summary\")\n",
        "text_pipeline_builder.add_edge( \"text_summary\", END)\n",
        "\n",
        "\n",
        "text_pipline_complied_graph: CompiledStateGraph = text_pipeline_builder.compile()\n"
      ],
      "metadata": {
        "id": "xeqLOPwoxpPg"
      },
      "execution_count": null,
      "outputs": []
    },
    {
      "cell_type": "markdown",
      "source": [
        "## Visualize the Workflow\n"
      ],
      "metadata": {
        "id": "GWoejloQYhrB"
      }
    },
    {
      "cell_type": "code",
      "source": [
        "from IPython.display import Image, display\n",
        "graph : CompiledStateGraph = display(\n",
        "            Image(\n",
        "                text_pipline_complied_graph.get_graph().draw_mermaid_png()))\n",
        "print(graph)"
      ],
      "metadata": {
        "colab": {
          "base_uri": "https://localhost:8080/",
          "height": 466
        },
        "id": "DZ5OyGuWYVFB",
        "outputId": "1d825f7a-dd9e-4d29-b864-db3c645e6062"
      },
      "execution_count": null,
      "outputs": [
        {
          "output_type": "display_data",
          "data": {
            "image/jpeg": "[encoded data removed]",
            "text/plain": [
              "<IPython.core.display.Image object>"
            ]
          },
          "metadata": {}
        },
        {
          "output_type": "stream",
          "name": "stdout",
          "text": [
            "None\n"
          ]
        }
      ]
    },
    {
      "cell_type": "markdown",
      "source": [
        "## Testing the Pipeline"
      ],
      "metadata": {
        "id": "2SglAaigaQK-"
      }
    },
    {
      "cell_type": "code",
      "source": [
        "# Invoke the Graph\n",
        "text = '''\n",
        "Intelligent Agents (IA) are a fundamental concept in artificial intelligence that has gained immense popularity in various industries. An Intelligent Agent can be thought of as a software entity designed to perceive its environment and take actions that maximize its chances of successfully achieving a goal. Unlike simple automated programs, IA agents are built to learn, adapt, and operate autonomously, making them versatile and applicable to many real-world problems.\n",
        "\n",
        "IA agents come in different forms, each with a specific set of capabilities that enable them to work effectively within their domains. One common example is the reactive agent, which bases its actions purely on the current state of its environment. This kind of agent does not store or process memories of past actions but instead reacts to changing stimuli directly. Simple rule-based bots used for navigating basic environments fall into this category.\n",
        "\n",
        "In contrast, more sophisticated IA agents can maintain an internal state, allowing them to make decisions based not just on the present but also on past experiences. These agents are often termed deliberative agents, as they consider the implications of different choices over time to achieve their objectives. Deliberative agents use planning and optimization techniques to identify the sequence of actions that will lead to a desired outcome.\n",
        "\n",
        "Another crucial category of IA agents is learning agents. These agents are capable of improving their behavior over time. A learning agent can modify its rules or policies based on feedback, allowing it to become more efficient in completing tasks. Machine learning algorithms, such as reinforcement learning, are often integrated into IA agents to help them learn from success or failure in their tasks. AlphaGo, a game-playing agent developed by DeepMind, is an excellent example of a learning agent that was able to outperform expert human players by continuously improving its strategies.\n",
        "\n",
        "IA agents can also be multi-agent systems, where several agents collaborate or compete to accomplish goals. In multi-agent systems, agents can share information and coordinate their actions, leading to a collective intelligence capable of solving complex problems that would be too challenging for a single agent. For instance, self-driving cars in a smart transportation network can work together to prevent traffic congestion by communicating in real-time, adjusting their speeds, and choosing routes dynamically.\n",
        "'''\n"
      ],
      "metadata": {
        "id": "sXaOLFM6ZfK8"
      },
      "execution_count": null,
      "outputs": []
    },
    {
      "cell_type": "code",
      "source": [
        "graph_output = text_pipline_complied_graph.invoke({\"text\": text})"
      ],
      "metadata": {
        "colab": {
          "base_uri": "https://localhost:8080/"
        },
        "id": "x__O3MrZcWNu",
        "outputId": "21424ddf-28a5-49f5-c975-79eee05966fd"
      },
      "execution_count": null,
      "outputs": [
        {
          "output_type": "stream",
          "name": "stdout",
          "text": [
            "---Classification Node-- {'text': '\\nIntelligent Agents (IA) are a fundamental concept in artificial intelligence that has gained immense popularity in various industries. An Intelligent Agent can be thought of as a software entity designed to perceive its environment and take actions that maximize its chances of successfully achieving a goal. Unlike simple automated programs, IA agents are built to learn, adapt, and operate autonomously, making them versatile and applicable to many real-world problems.\\n\\nIA agents come in different forms, each with a specific set of capabilities that enable them to work effectively within their domains. One common example is the reactive agent, which bases its actions purely on the current state of its environment. This kind of agent does not store or process memories of past actions but instead reacts to changing stimuli directly. Simple rule-based bots used for navigating basic environments fall into this category.\\n\\nIn contrast, more sophisticated IA agents can maintain an internal state, allowing them to make decisions based not just on the present but also on past experiences. These agents are often termed deliberative agents, as they consider the implications of different choices over time to achieve their objectives. Deliberative agents use planning and optimization techniques to identify the sequence of actions that will lead to a desired outcome.\\n\\nAnother crucial category of IA agents is learning agents. These agents are capable of improving their behavior over time. A learning agent can modify its rules or policies based on feedback, allowing it to become more efficient in completing tasks. Machine learning algorithms, such as reinforcement learning, are often integrated into IA agents to help them learn from success or failure in their tasks. AlphaGo, a game-playing agent developed by DeepMind, is an excellent example of a learning agent that was able to outperform expert human players by continuously improving its strategies.\\n\\nIA agents can also be multi-agent systems, where several agents collaborate or compete to accomplish goals. In multi-agent systems, agents can share information and coordinate their actions, leading to a collective intelligence capable of solving complex problems that would be too challenging for a single agent. For instance, self-driving cars in a smart transportation network can work together to prevent traffic congestion by communicating in real-time, adjusting their speeds, and choosing routes dynamically.\\n'}\n",
            "---Output--- ARTICLE \n",
            "\n",
            "---Entity_Extraction Node-- {'text': '\\nIntelligent Agents (IA) are a fundamental concept in artificial intelligence that has gained immense popularity in various industries. An Intelligent Agent can be thought of as a software entity designed to perceive its environment and take actions that maximize its chances of successfully achieving a goal. Unlike simple automated programs, IA agents are built to learn, adapt, and operate autonomously, making them versatile and applicable to many real-world problems.\\n\\nIA agents come in different forms, each with a specific set of capabilities that enable them to work effectively within their domains. One common example is the reactive agent, which bases its actions purely on the current state of its environment. This kind of agent does not store or process memories of past actions but instead reacts to changing stimuli directly. Simple rule-based bots used for navigating basic environments fall into this category.\\n\\nIn contrast, more sophisticated IA agents can maintain an internal state, allowing them to make decisions based not just on the present but also on past experiences. These agents are often termed deliberative agents, as they consider the implications of different choices over time to achieve their objectives. Deliberative agents use planning and optimization techniques to identify the sequence of actions that will lead to a desired outcome.\\n\\nAnother crucial category of IA agents is learning agents. These agents are capable of improving their behavior over time. A learning agent can modify its rules or policies based on feedback, allowing it to become more efficient in completing tasks. Machine learning algorithms, such as reinforcement learning, are often integrated into IA agents to help them learn from success or failure in their tasks. AlphaGo, a game-playing agent developed by DeepMind, is an excellent example of a learning agent that was able to outperform expert human players by continuously improving its strategies.\\n\\nIA agents can also be multi-agent systems, where several agents collaborate or compete to accomplish goals. In multi-agent systems, agents can share information and coordinate their actions, leading to a collective intelligence capable of solving complex problems that would be too challenging for a single agent. For instance, self-driving cars in a smart transportation network can work together to prevent traffic congestion by communicating in real-time, adjusting their speeds, and choosing routes dynamically.\\n', 'classification': 'ARTICLE \\n'}\n",
            "---Output--- ```json\n",
            "{\"entities\": [\"Intelligent Agents\", \"IA\", \"artificial intelligence\", \"reactive agent\", \"deliberative agents\", \"learning agents\", \"AlphaGo\", \"DeepMind\", \"multi-agent systems\", \"self-driving cars\", \"smart transportation network\"]}\n",
            "``` \n",
            "\n",
            "---Text_Summary Node-- {'text': '\\nIntelligent Agents (IA) are a fundamental concept in artificial intelligence that has gained immense popularity in various industries. An Intelligent Agent can be thought of as a software entity designed to perceive its environment and take actions that maximize its chances of successfully achieving a goal. Unlike simple automated programs, IA agents are built to learn, adapt, and operate autonomously, making them versatile and applicable to many real-world problems.\\n\\nIA agents come in different forms, each with a specific set of capabilities that enable them to work effectively within their domains. One common example is the reactive agent, which bases its actions purely on the current state of its environment. This kind of agent does not store or process memories of past actions but instead reacts to changing stimuli directly. Simple rule-based bots used for navigating basic environments fall into this category.\\n\\nIn contrast, more sophisticated IA agents can maintain an internal state, allowing them to make decisions based not just on the present but also on past experiences. These agents are often termed deliberative agents, as they consider the implications of different choices over time to achieve their objectives. Deliberative agents use planning and optimization techniques to identify the sequence of actions that will lead to a desired outcome.\\n\\nAnother crucial category of IA agents is learning agents. These agents are capable of improving their behavior over time. A learning agent can modify its rules or policies based on feedback, allowing it to become more efficient in completing tasks. Machine learning algorithms, such as reinforcement learning, are often integrated into IA agents to help them learn from success or failure in their tasks. AlphaGo, a game-playing agent developed by DeepMind, is an excellent example of a learning agent that was able to outperform expert human players by continuously improving its strategies.\\n\\nIA agents can also be multi-agent systems, where several agents collaborate or compete to accomplish goals. In multi-agent systems, agents can share information and coordinate their actions, leading to a collective intelligence capable of solving complex problems that would be too challenging for a single agent. For instance, self-driving cars in a smart transportation network can work together to prevent traffic congestion by communicating in real-time, adjusting their speeds, and choosing routes dynamically.\\n', 'classification': 'ARTICLE \\n', 'entities': '```json\\n{\"entities\": [\"Intelligent Agents\", \"IA\", \"artificial intelligence\", \"reactive agent\", \"deliberative agents\", \"learning agents\", \"AlphaGo\", \"DeepMind\", \"multi-agent systems\", \"self-driving cars\", \"smart transportation network\"]}\\n``` \\n'}\n",
            "---Output--- Intelligent Agents (IA) are software entities that can perceive their environment and act to achieve goals. Unlike simple programs, IAs learn, adapt, and operate autonomously, making them versatile for various applications.  Types of IAs include reactive agents, which react to the present, deliberative agents, which use past experiences to make decisions, and learning agents, which improve their behavior over time through feedback. Examples include AlphaGo, a game-playing agent that learned to outperform human players, and self-driving cars in a smart transportation network, which can collaborate to optimize traffic flow. \n",
            "\n"
          ]
        }
      ]
    },
    {
      "cell_type": "code",
      "source": [
        "graph_output['classification']"
      ],
      "metadata": {
        "colab": {
          "base_uri": "https://localhost:8080/",
          "height": 35
        },
        "id": "nFISmayzc0LE",
        "outputId": "480539ea-fbab-47bd-88d7-1cdc924ea0e6"
      },
      "execution_count": null,
      "outputs": [
        {
          "output_type": "execute_result",
          "data": {
            "text/plain": [
              "'ARTICLE \\n'"
            ],
            "application/vnd.google.colaboratory.intrinsic+json": {
              "type": "string"
            }
          },
          "metadata": {},
          "execution_count": 28
        }
      ]
    },
    {
      "cell_type": "code",
      "source": [
        "graph_output['entities']"
      ],
      "metadata": {
        "colab": {
          "base_uri": "https://localhost:8080/",
          "height": 53
        },
        "id": "-9DVHTIwc-bL",
        "outputId": "cd2c2bcc-bb21-46f9-deee-41994638b462"
      },
      "execution_count": null,
      "outputs": [
        {
          "output_type": "execute_result",
          "data": {
            "text/plain": [
              "'```json\\n{\"entities\": [\"Intelligent Agents\", \"IA\", \"artificial intelligence\", \"reactive agent\", \"deliberative agents\", \"learning agents\", \"AlphaGo\", \"DeepMind\", \"multi-agent systems\", \"self-driving cars\", \"smart transportation network\"]}\\n``` \\n'"
            ],
            "application/vnd.google.colaboratory.intrinsic+json": {
              "type": "string"
            }
          },
          "metadata": {},
          "execution_count": 29
        }
      ]
    },
    {
      "cell_type": "code",
      "source": [
        "graph_output['summary']"
      ],
      "metadata": {
        "colab": {
          "base_uri": "https://localhost:8080/",
          "height": 105
        },
        "id": "xbAMKSVUdCXL",
        "outputId": "8b91d288-317c-411c-a2b5-410c1cad2045"
      },
      "execution_count": null,
      "outputs": [
        {
          "output_type": "execute_result",
          "data": {
            "text/plain": [
              "'Intelligent Agents (IA) are software entities that can perceive their environment and act to achieve goals. Unlike simple programs, IAs learn, adapt, and operate autonomously, making them versatile for various applications.  Types of IAs include reactive agents, which react to the present, deliberative agents, which use past experiences to make decisions, and learning agents, which improve their behavior over time through feedback. Examples include AlphaGo, a game-playing agent that learned to outperform human players, and self-driving cars in a smart transportation network, which can collaborate to optimize traffic flow. \\n'"
            ],
            "application/vnd.google.colaboratory.intrinsic+json": {
              "type": "string"
            }
          },
          "metadata": {},
          "execution_count": 30
        }
      ]
    }
  ]
}